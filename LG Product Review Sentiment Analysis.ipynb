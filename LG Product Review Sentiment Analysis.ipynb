{
 "cells": [
  {
   "cell_type": "code",
   "execution_count": 2,
   "id": "43307299",
   "metadata": {},
   "outputs": [],
   "source": [
    "import pandas as pd\n",
    "import numpy as np\n",
    "import re\n",
    "from nltk.corpus import stopwords\n",
    "from nltk.tokenize import word_tokenize\n",
    "from textblob import TextBlob"
   ]
  },
  {
   "cell_type": "code",
   "execution_count": 3,
   "id": "de907031",
   "metadata": {},
   "outputs": [],
   "source": [
    "df = pd.read_excel(r'C:\\Users\\stuti\\OneDrive\\Desktop\\Output_amazon_reviews.xlsx')"
   ]
  },
  {
   "cell_type": "code",
   "execution_count": 4,
   "id": "0983a5b0",
   "metadata": {},
   "outputs": [
    {
     "data": {
      "text/html": [
       "<div>\n",
       "<style scoped>\n",
       "    .dataframe tbody tr th:only-of-type {\n",
       "        vertical-align: middle;\n",
       "    }\n",
       "\n",
       "    .dataframe tbody tr th {\n",
       "        vertical-align: top;\n",
       "    }\n",
       "\n",
       "    .dataframe thead th {\n",
       "        text-align: right;\n",
       "    }\n",
       "</style>\n",
       "<table border=\"1\" class=\"dataframe\">\n",
       "  <thead>\n",
       "    <tr style=\"text-align: right;\">\n",
       "      <th></th>\n",
       "      <th>Source</th>\n",
       "      <th>Model Number</th>\n",
       "      <th>Review</th>\n",
       "      <th>Stars</th>\n",
       "    </tr>\n",
       "  </thead>\n",
       "  <tbody>\n",
       "    <tr>\n",
       "      <th>0</th>\n",
       "      <td>Amazon</td>\n",
       "      <td>55QNED75SRA.ATR</td>\n",
       "      <td>Osm tv in this price compare to neoqled samsun...</td>\n",
       "      <td>5.0</td>\n",
       "    </tr>\n",
       "    <tr>\n",
       "      <th>1</th>\n",
       "      <td>Amazon</td>\n",
       "      <td>55QNED75SRA.ATR</td>\n",
       "      <td>Overall good but black level mostly highliter....</td>\n",
       "      <td>3.0</td>\n",
       "    </tr>\n",
       "    <tr>\n",
       "      <th>2</th>\n",
       "      <td>Amazon</td>\n",
       "      <td>55QNED75SRA.ATR</td>\n",
       "      <td>I bought this 2 days back. I know this model d...</td>\n",
       "      <td>4.0</td>\n",
       "    </tr>\n",
       "    <tr>\n",
       "      <th>3</th>\n",
       "      <td>Amazon</td>\n",
       "      <td>55QNED75SRA.ATR</td>\n",
       "      <td>Go for it it's better then samsung QLED within...</td>\n",
       "      <td>5.0</td>\n",
       "    </tr>\n",
       "    <tr>\n",
       "      <th>4</th>\n",
       "      <td>Amazon</td>\n",
       "      <td>55QNED75SRA.ATR</td>\n",
       "      <td>Qled tv\\n120hz\\nVery good design\\nAmazing pict...</td>\n",
       "      <td>5.0</td>\n",
       "    </tr>\n",
       "  </tbody>\n",
       "</table>\n",
       "</div>"
      ],
      "text/plain": [
       "   Source     Model Number                                             Review  \\\n",
       "0  Amazon  55QNED75SRA.ATR  Osm tv in this price compare to neoqled samsun...   \n",
       "1  Amazon  55QNED75SRA.ATR  Overall good but black level mostly highliter....   \n",
       "2  Amazon  55QNED75SRA.ATR  I bought this 2 days back. I know this model d...   \n",
       "3  Amazon  55QNED75SRA.ATR  Go for it it's better then samsung QLED within...   \n",
       "4  Amazon  55QNED75SRA.ATR  Qled tv\\n120hz\\nVery good design\\nAmazing pict...   \n",
       "\n",
       "   Stars  \n",
       "0    5.0  \n",
       "1    3.0  \n",
       "2    4.0  \n",
       "3    5.0  \n",
       "4    5.0  "
      ]
     },
     "execution_count": 4,
     "metadata": {},
     "output_type": "execute_result"
    }
   ],
   "source": [
    "df.head()"
   ]
  },
  {
   "cell_type": "code",
   "execution_count": 5,
   "id": "62cd4f51",
   "metadata": {},
   "outputs": [
    {
     "data": {
      "text/plain": [
       "(642, 4)"
      ]
     },
     "execution_count": 5,
     "metadata": {},
     "output_type": "execute_result"
    }
   ],
   "source": [
    "df.shape"
   ]
  },
  {
   "cell_type": "code",
   "execution_count": 6,
   "id": "a1b0ee5c",
   "metadata": {},
   "outputs": [
    {
     "name": "stdout",
     "output_type": "stream",
     "text": [
      "The dataset has 3 Hindi reviews.\n"
     ]
    }
   ],
   "source": [
    "import pandas as pd\n",
    "from langdetect import detect\n",
    "\n",
    "def is_hindi(text):\n",
    "    try:\n",
    "        return detect(text) == 'hi'\n",
    "    except:\n",
    "        return False\n",
    "\n",
    "contains_hindi = df['Review'].apply(is_hindi).any()\n",
    "\n",
    "if contains_hindi:\n",
    "    hindi_reviews_count = 0\n",
    "    hindi_reviews_indices = []\n",
    "    for index, row in df.iterrows():\n",
    "        if is_hindi(row['Review']):\n",
    "            hindi_reviews_count += 1\n",
    "            hindi_reviews_indices.append(index)\n",
    "    print(f\"The dataset has {hindi_reviews_count} Hindi reviews.\")\n",
    "else:\n",
    "    print(\"The dataset does not contain any Hindi reviews.\")\n"
   ]
  },
  {
   "cell_type": "code",
   "execution_count": 7,
   "id": "b1bbe98e",
   "metadata": {},
   "outputs": [],
   "source": [
    "df = df.drop(index=hindi_reviews_indices)"
   ]
  },
  {
   "cell_type": "code",
   "execution_count": 8,
   "id": "d8089947",
   "metadata": {},
   "outputs": [
    {
     "data": {
      "text/html": [
       "<div>\n",
       "<style scoped>\n",
       "    .dataframe tbody tr th:only-of-type {\n",
       "        vertical-align: middle;\n",
       "    }\n",
       "\n",
       "    .dataframe tbody tr th {\n",
       "        vertical-align: top;\n",
       "    }\n",
       "\n",
       "    .dataframe thead th {\n",
       "        text-align: right;\n",
       "    }\n",
       "</style>\n",
       "<table border=\"1\" class=\"dataframe\">\n",
       "  <thead>\n",
       "    <tr style=\"text-align: right;\">\n",
       "      <th></th>\n",
       "      <th>Source</th>\n",
       "      <th>Model Number</th>\n",
       "      <th>Review</th>\n",
       "      <th>Stars</th>\n",
       "    </tr>\n",
       "  </thead>\n",
       "  <tbody>\n",
       "    <tr>\n",
       "      <th>0</th>\n",
       "      <td>Amazon</td>\n",
       "      <td>55QNED75SRA.ATR</td>\n",
       "      <td>Osm tv in this price compare to neoqled samsun...</td>\n",
       "      <td>5.0</td>\n",
       "    </tr>\n",
       "    <tr>\n",
       "      <th>1</th>\n",
       "      <td>Amazon</td>\n",
       "      <td>55QNED75SRA.ATR</td>\n",
       "      <td>Overall good but black level mostly highliter....</td>\n",
       "      <td>3.0</td>\n",
       "    </tr>\n",
       "    <tr>\n",
       "      <th>2</th>\n",
       "      <td>Amazon</td>\n",
       "      <td>55QNED75SRA.ATR</td>\n",
       "      <td>I bought this 2 days back. I know this model d...</td>\n",
       "      <td>4.0</td>\n",
       "    </tr>\n",
       "    <tr>\n",
       "      <th>3</th>\n",
       "      <td>Amazon</td>\n",
       "      <td>55QNED75SRA.ATR</td>\n",
       "      <td>Go for it it's better then samsung QLED within...</td>\n",
       "      <td>5.0</td>\n",
       "    </tr>\n",
       "    <tr>\n",
       "      <th>4</th>\n",
       "      <td>Amazon</td>\n",
       "      <td>55QNED75SRA.ATR</td>\n",
       "      <td>Qled tv\\n120hz\\nVery good design\\nAmazing pict...</td>\n",
       "      <td>5.0</td>\n",
       "    </tr>\n",
       "    <tr>\n",
       "      <th>...</th>\n",
       "      <td>...</td>\n",
       "      <td>...</td>\n",
       "      <td>...</td>\n",
       "      <td>...</td>\n",
       "    </tr>\n",
       "    <tr>\n",
       "      <th>637</th>\n",
       "      <td>Amazon</td>\n",
       "      <td>24QP550-B.ATR</td>\n",
       "      <td>Best Monitor in this Price range got it for 19...</td>\n",
       "      <td>5.0</td>\n",
       "    </tr>\n",
       "    <tr>\n",
       "      <th>638</th>\n",
       "      <td>Amazon</td>\n",
       "      <td>24QP550-B.ATR</td>\n",
       "      <td>Rear USB ports of monitor are not working.\\nRi...</td>\n",
       "      <td>1.0</td>\n",
       "    </tr>\n",
       "    <tr>\n",
       "      <th>639</th>\n",
       "      <td>Amazon</td>\n",
       "      <td>24QP550-B.ATR</td>\n",
       "      <td>NaN</td>\n",
       "      <td>5.0</td>\n",
       "    </tr>\n",
       "    <tr>\n",
       "      <th>640</th>\n",
       "      <td>Amazon</td>\n",
       "      <td>24QP550-B.ATR</td>\n",
       "      <td>It satisfies all the functional needs of a dev...</td>\n",
       "      <td>5.0</td>\n",
       "    </tr>\n",
       "    <tr>\n",
       "      <th>641</th>\n",
       "      <td>Amazon</td>\n",
       "      <td>24QP550-B.ATR</td>\n",
       "      <td>Best 2k at affordable price</td>\n",
       "      <td>5.0</td>\n",
       "    </tr>\n",
       "  </tbody>\n",
       "</table>\n",
       "<p>639 rows × 4 columns</p>\n",
       "</div>"
      ],
      "text/plain": [
       "     Source     Model Number  \\\n",
       "0    Amazon  55QNED75SRA.ATR   \n",
       "1    Amazon  55QNED75SRA.ATR   \n",
       "2    Amazon  55QNED75SRA.ATR   \n",
       "3    Amazon  55QNED75SRA.ATR   \n",
       "4    Amazon  55QNED75SRA.ATR   \n",
       "..      ...              ...   \n",
       "637  Amazon    24QP550-B.ATR   \n",
       "638  Amazon    24QP550-B.ATR   \n",
       "639  Amazon    24QP550-B.ATR   \n",
       "640  Amazon    24QP550-B.ATR   \n",
       "641  Amazon    24QP550-B.ATR   \n",
       "\n",
       "                                                Review  Stars  \n",
       "0    Osm tv in this price compare to neoqled samsun...    5.0  \n",
       "1    Overall good but black level mostly highliter....    3.0  \n",
       "2    I bought this 2 days back. I know this model d...    4.0  \n",
       "3    Go for it it's better then samsung QLED within...    5.0  \n",
       "4    Qled tv\\n120hz\\nVery good design\\nAmazing pict...    5.0  \n",
       "..                                                 ...    ...  \n",
       "637  Best Monitor in this Price range got it for 19...    5.0  \n",
       "638  Rear USB ports of monitor are not working.\\nRi...    1.0  \n",
       "639                                                NaN    5.0  \n",
       "640  It satisfies all the functional needs of a dev...    5.0  \n",
       "641                        Best 2k at affordable price    5.0  \n",
       "\n",
       "[639 rows x 4 columns]"
      ]
     },
     "execution_count": 8,
     "metadata": {},
     "output_type": "execute_result"
    }
   ],
   "source": [
    "df"
   ]
  },
  {
   "cell_type": "code",
   "execution_count": 9,
   "id": "4631f55c",
   "metadata": {},
   "outputs": [
    {
     "name": "stdout",
     "output_type": "stream",
     "text": [
      "Source                                                     Amazon\n",
      "Model Number                                    T80SNMB1Z.ABMQEIL\n",
      "Review          There are lots of scratches on the display pan...\n",
      "Stars                                                         3.0\n",
      "Name: 133, dtype: object\n"
     ]
    }
   ],
   "source": [
    "print(df.iloc[132])"
   ]
  },
  {
   "cell_type": "code",
   "execution_count": 10,
   "id": "59de558e",
   "metadata": {},
   "outputs": [],
   "source": [
    "df.dropna(how='any', inplace=True)"
   ]
  },
  {
   "cell_type": "code",
   "execution_count": 11,
   "id": "1ec3f34d",
   "metadata": {},
   "outputs": [
    {
     "data": {
      "text/plain": [
       "Index(['Source', 'Model Number', 'Review', 'Stars'], dtype='object')"
      ]
     },
     "execution_count": 11,
     "metadata": {},
     "output_type": "execute_result"
    }
   ],
   "source": [
    "df.columns"
   ]
  },
  {
   "cell_type": "code",
   "execution_count": 12,
   "id": "eb68b4b7",
   "metadata": {},
   "outputs": [
    {
     "data": {
      "text/plain": [
       "(621, 4)"
      ]
     },
     "execution_count": 12,
     "metadata": {},
     "output_type": "execute_result"
    }
   ],
   "source": [
    "df.shape"
   ]
  },
  {
   "cell_type": "code",
   "execution_count": 13,
   "id": "f2304e0b",
   "metadata": {},
   "outputs": [],
   "source": [
    "import demoji \n",
    "def clean_Review(Review):\n",
    "    if isinstance(Review, str):\n",
    "        Review = re.sub(r'\\s+', ' ', Review)  \n",
    "        Review = Review.lower()  \n",
    "        Review = re.sub(r'[^a-z\\s]', '', Review)  \n",
    "        Review = demoji.replace(Review, '') \n",
    "        return Review\n",
    "    else:\n",
    "        return ''"
   ]
  },
  {
   "cell_type": "code",
   "execution_count": 14,
   "id": "0a558435",
   "metadata": {},
   "outputs": [],
   "source": [
    "df['clean_Review'] = df['Review'].apply(clean_Review)"
   ]
  },
  {
   "cell_type": "code",
   "execution_count": 15,
   "id": "69506bb8",
   "metadata": {},
   "outputs": [
    {
     "data": {
      "text/html": [
       "<div>\n",
       "<style scoped>\n",
       "    .dataframe tbody tr th:only-of-type {\n",
       "        vertical-align: middle;\n",
       "    }\n",
       "\n",
       "    .dataframe tbody tr th {\n",
       "        vertical-align: top;\n",
       "    }\n",
       "\n",
       "    .dataframe thead th {\n",
       "        text-align: right;\n",
       "    }\n",
       "</style>\n",
       "<table border=\"1\" class=\"dataframe\">\n",
       "  <thead>\n",
       "    <tr style=\"text-align: right;\">\n",
       "      <th></th>\n",
       "      <th>Source</th>\n",
       "      <th>Model Number</th>\n",
       "      <th>Review</th>\n",
       "      <th>Stars</th>\n",
       "      <th>clean_Review</th>\n",
       "    </tr>\n",
       "  </thead>\n",
       "  <tbody>\n",
       "    <tr>\n",
       "      <th>0</th>\n",
       "      <td>Amazon</td>\n",
       "      <td>55QNED75SRA.ATR</td>\n",
       "      <td>Osm tv in this price compare to neoqled samsun...</td>\n",
       "      <td>5.0</td>\n",
       "      <td>osm tv in this price compare to neoqled samsun...</td>\n",
       "    </tr>\n",
       "    <tr>\n",
       "      <th>1</th>\n",
       "      <td>Amazon</td>\n",
       "      <td>55QNED75SRA.ATR</td>\n",
       "      <td>Overall good but black level mostly highliter....</td>\n",
       "      <td>3.0</td>\n",
       "      <td>overall good but black level mostly highliter ...</td>\n",
       "    </tr>\n",
       "    <tr>\n",
       "      <th>2</th>\n",
       "      <td>Amazon</td>\n",
       "      <td>55QNED75SRA.ATR</td>\n",
       "      <td>I bought this 2 days back. I know this model d...</td>\n",
       "      <td>4.0</td>\n",
       "      <td>i bought this  days back i know this model doe...</td>\n",
       "    </tr>\n",
       "    <tr>\n",
       "      <th>3</th>\n",
       "      <td>Amazon</td>\n",
       "      <td>55QNED75SRA.ATR</td>\n",
       "      <td>Go for it it's better then samsung QLED within...</td>\n",
       "      <td>5.0</td>\n",
       "      <td>go for it its better then samsung qled within ...</td>\n",
       "    </tr>\n",
       "    <tr>\n",
       "      <th>4</th>\n",
       "      <td>Amazon</td>\n",
       "      <td>55QNED75SRA.ATR</td>\n",
       "      <td>Qled tv\\n120hz\\nVery good design\\nAmazing pict...</td>\n",
       "      <td>5.0</td>\n",
       "      <td>qled tv hz very good design amazing picture qu...</td>\n",
       "    </tr>\n",
       "  </tbody>\n",
       "</table>\n",
       "</div>"
      ],
      "text/plain": [
       "   Source     Model Number                                             Review  \\\n",
       "0  Amazon  55QNED75SRA.ATR  Osm tv in this price compare to neoqled samsun...   \n",
       "1  Amazon  55QNED75SRA.ATR  Overall good but black level mostly highliter....   \n",
       "2  Amazon  55QNED75SRA.ATR  I bought this 2 days back. I know this model d...   \n",
       "3  Amazon  55QNED75SRA.ATR  Go for it it's better then samsung QLED within...   \n",
       "4  Amazon  55QNED75SRA.ATR  Qled tv\\n120hz\\nVery good design\\nAmazing pict...   \n",
       "\n",
       "   Stars                                       clean_Review  \n",
       "0    5.0  osm tv in this price compare to neoqled samsun...  \n",
       "1    3.0  overall good but black level mostly highliter ...  \n",
       "2    4.0  i bought this  days back i know this model doe...  \n",
       "3    5.0  go for it its better then samsung qled within ...  \n",
       "4    5.0  qled tv hz very good design amazing picture qu...  "
      ]
     },
     "execution_count": 15,
     "metadata": {},
     "output_type": "execute_result"
    }
   ],
   "source": [
    "df.head()"
   ]
  },
  {
   "cell_type": "code",
   "execution_count": 16,
   "id": "1311684a",
   "metadata": {},
   "outputs": [],
   "source": [
    "def get_sentiment(text):\n",
    "    blob = TextBlob(text)\n",
    "    return blob.sentiment.polarity"
   ]
  },
  {
   "cell_type": "code",
   "execution_count": 17,
   "id": "a5d44fc2",
   "metadata": {},
   "outputs": [],
   "source": [
    "df['sentiment'] = df['clean_Review'].apply(get_sentiment)"
   ]
  },
  {
   "cell_type": "code",
   "execution_count": 18,
   "id": "7749d7ad",
   "metadata": {},
   "outputs": [],
   "source": [
    "def categorize_sentiment(polarity):\n",
    "    if polarity > 0:\n",
    "        return 'positive'\n",
    "    elif polarity < 0:\n",
    "        return 'negative'\n",
    "    else:\n",
    "        return 'neutral'"
   ]
  },
  {
   "cell_type": "code",
   "execution_count": 19,
   "id": "be78a7bf",
   "metadata": {},
   "outputs": [],
   "source": [
    "df['sentiment_category'] = df['sentiment'].apply(categorize_sentiment)"
   ]
  },
  {
   "cell_type": "code",
   "execution_count": 20,
   "id": "2e69d861",
   "metadata": {},
   "outputs": [
    {
     "data": {
      "text/plain": [
       "positive    492\n",
       "negative     65\n",
       "neutral      64\n",
       "Name: sentiment_category, dtype: int64"
      ]
     },
     "execution_count": 20,
     "metadata": {},
     "output_type": "execute_result"
    }
   ],
   "source": [
    "df[\"sentiment_category\"].value_counts() "
   ]
  },
  {
   "cell_type": "code",
   "execution_count": 21,
   "id": "c81dd1bc",
   "metadata": {},
   "outputs": [],
   "source": [
    "import pandas as pd\n",
    "import matplotlib.pyplot as plt\n",
    "\n",
    "constraints = ['#B34D22', '#EBE00C', '#1FEB0C']\n",
    "\n",
    "def categorical_variable_summary(df, column_name):\n",
    "    value_counts = df[column_name].value_counts()\n",
    "    values = value_counts.values\n",
    "    labels = value_counts.index.astype(str)\n",
    "    \n",
    "    fig, axs = plt.subplots(1, 2, figsize=(14, 7))\n",
    "    \n",
    "    # Bar Plot\n",
    "    axs[0].bar(labels, values, color=constraints)\n",
    "    axs[0].set_title('Countplot')\n",
    "    axs[0].set_xlabel(column_name)\n",
    "    axs[0].set_ylabel('Count')\n",
    "    \n",
    "    for i in range(len(values)):\n",
    "        axs[0].text(i, values[i], str(values[i]), ha='center', va='bottom', fontsize=12)\n",
    "    \n",
    "    # Pie Chart\n",
    "    axs[1].pie(values, labels=labels, colors=constraints, autopct='%1.1f%%', textprops={'fontsize': 12})\n",
    "    axs[1].set_title('Percentage')\n",
    "    \n",
    "    plt.tight_layout()\n",
    "    plt.show()"
   ]
  },
  {
   "cell_type": "code",
   "execution_count": 22,
   "id": "89a18d8b",
   "metadata": {},
   "outputs": [
    {
     "data": {
      "image/png": "[encoded data removed]",
      "text/plain": [
       "<Figure size 1008x504 with 2 Axes>"
      ]
     },
     "metadata": {
      "needs_background": "light"
     },
     "output_type": "display_data"
    }
   ],
   "source": [
    "categorical_variable_summary(df,'sentiment_category')"
   ]
  },
  {
   "cell_type": "code",
   "execution_count": 23,
   "id": "8f3ef296",
   "metadata": {},
   "outputs": [
    {
     "name": "stdout",
     "output_type": "stream",
     "text": [
      "Source                             Amazon\n",
      "Model Number          GL-L257CMCX.DMCZEBN\n",
      "Review                Value for money 💰💰💰\n",
      "Stars                                 5.0\n",
      "clean_Review             value for money \n",
      "sentiment                             0.0\n",
      "sentiment_category                neutral\n",
      "Name: 420, dtype: object\n"
     ]
    }
   ],
   "source": [
    "print(df.iloc[411])"
   ]
  },
  {
   "cell_type": "code",
   "execution_count": 24,
   "id": "37cabfe6",
   "metadata": {},
   "outputs": [
    {
     "data": {
      "text/html": [
       "<div>\n",
       "<style scoped>\n",
       "    .dataframe tbody tr th:only-of-type {\n",
       "        vertical-align: middle;\n",
       "    }\n",
       "\n",
       "    .dataframe tbody tr th {\n",
       "        vertical-align: top;\n",
       "    }\n",
       "\n",
       "    .dataframe thead th {\n",
       "        text-align: right;\n",
       "    }\n",
       "</style>\n",
       "<table border=\"1\" class=\"dataframe\">\n",
       "  <thead>\n",
       "    <tr style=\"text-align: right;\">\n",
       "      <th></th>\n",
       "      <th>Source</th>\n",
       "      <th>Model Number</th>\n",
       "      <th>Review</th>\n",
       "      <th>Stars</th>\n",
       "      <th>clean_Review</th>\n",
       "      <th>sentiment</th>\n",
       "      <th>sentiment_category</th>\n",
       "    </tr>\n",
       "  </thead>\n",
       "  <tbody>\n",
       "    <tr>\n",
       "      <th>0</th>\n",
       "      <td>Amazon</td>\n",
       "      <td>55QNED75SRA.ATR</td>\n",
       "      <td>Osm tv in this price compare to neoqled samsun...</td>\n",
       "      <td>5.0</td>\n",
       "      <td>osm tv in this price compare to neoqled samsun...</td>\n",
       "      <td>1.000000</td>\n",
       "      <td>positive</td>\n",
       "    </tr>\n",
       "    <tr>\n",
       "      <th>438</th>\n",
       "      <td>Amazon</td>\n",
       "      <td>GL-D201ASCU.ASCZEBN</td>\n",
       "      <td>Delivery &amp; installation done on time.Performan...</td>\n",
       "      <td>5.0</td>\n",
       "      <td>delivery  installation done on timeperformance...</td>\n",
       "      <td>0.400000</td>\n",
       "      <td>positive</td>\n",
       "    </tr>\n",
       "    <tr>\n",
       "      <th>436</th>\n",
       "      <td>Amazon</td>\n",
       "      <td>GL-D201ASCU.ASCZEBN</td>\n",
       "      <td>excellent</td>\n",
       "      <td>5.0</td>\n",
       "      <td>excellent</td>\n",
       "      <td>1.000000</td>\n",
       "      <td>positive</td>\n",
       "    </tr>\n",
       "    <tr>\n",
       "      <th>435</th>\n",
       "      <td>Amazon</td>\n",
       "      <td>GL-D201ASCU.ASCZEBN</td>\n",
       "      <td>The LG product line consistently delivers exce...</td>\n",
       "      <td>4.0</td>\n",
       "      <td>the lg product line consistently delivers exce...</td>\n",
       "      <td>0.200000</td>\n",
       "      <td>positive</td>\n",
       "    </tr>\n",
       "    <tr>\n",
       "      <th>434</th>\n",
       "      <td>Amazon</td>\n",
       "      <td>GL-D201ASCU.ASCZEBN</td>\n",
       "      <td>It has good efficiency. Storage space for one ...</td>\n",
       "      <td>5.0</td>\n",
       "      <td>it has good efficiency storage space for one o...</td>\n",
       "      <td>0.433333</td>\n",
       "      <td>positive</td>\n",
       "    </tr>\n",
       "  </tbody>\n",
       "</table>\n",
       "</div>"
      ],
      "text/plain": [
       "     Source         Model Number  \\\n",
       "0    Amazon      55QNED75SRA.ATR   \n",
       "438  Amazon  GL-D201ASCU.ASCZEBN   \n",
       "436  Amazon  GL-D201ASCU.ASCZEBN   \n",
       "435  Amazon  GL-D201ASCU.ASCZEBN   \n",
       "434  Amazon  GL-D201ASCU.ASCZEBN   \n",
       "\n",
       "                                                Review  Stars  \\\n",
       "0    Osm tv in this price compare to neoqled samsun...    5.0   \n",
       "438  Delivery & installation done on time.Performan...    5.0   \n",
       "436                                          excellent    5.0   \n",
       "435  The LG product line consistently delivers exce...    4.0   \n",
       "434  It has good efficiency. Storage space for one ...    5.0   \n",
       "\n",
       "                                          clean_Review  sentiment  \\\n",
       "0    osm tv in this price compare to neoqled samsun...   1.000000   \n",
       "438  delivery  installation done on timeperformance...   0.400000   \n",
       "436                                          excellent   1.000000   \n",
       "435  the lg product line consistently delivers exce...   0.200000   \n",
       "434  it has good efficiency storage space for one o...   0.433333   \n",
       "\n",
       "    sentiment_category  \n",
       "0             positive  \n",
       "438           positive  \n",
       "436           positive  \n",
       "435           positive  \n",
       "434           positive  "
      ]
     },
     "execution_count": 24,
     "metadata": {},
     "output_type": "execute_result"
    }
   ],
   "source": [
    "from wordcloud import WordCloud\n",
    "\n",
    "positive_review = df[df.sentiment_category == 'positive']\n",
    "positive_review = positive_review.sort_values(['sentiment_category'],ascending=False)\n",
    "positive_review.head()"
   ]
  },
  {
   "cell_type": "code",
   "execution_count": null,
   "id": "24ddb8f5",
   "metadata": {},
   "outputs": [],
   "source": []
  },
  {
   "cell_type": "code",
   "execution_count": 26,
   "id": "7dbde93f",
   "metadata": {},
   "outputs": [],
   "source": [
    "from sklearn.model_selection import train_test_split\n",
    "X_train_df, X_test_df = train_test_split(df, test_size=0.2, random_state=42)"
   ]
  },
  {
   "cell_type": "code",
   "execution_count": 27,
   "id": "33cb4c94",
   "metadata": {},
   "outputs": [
    {
     "name": "stdout",
     "output_type": "stream",
     "text": [
      "Size of x_train: (496, 7)\n",
      "Size of x_test: (125, 7)\n"
     ]
    }
   ],
   "source": [
    "print(\"Size of x_train:\", (X_train_df.shape))\n",
    "print(\"Size of x_test:\", (X_test_df.shape))"
   ]
  },
  {
   "cell_type": "code",
   "execution_count": 28,
   "id": "e4234bd2",
   "metadata": {},
   "outputs": [
    {
     "data": {
      "text/plain": [
       "positive    395\n",
       "neutral      53\n",
       "negative     48\n",
       "Name: sentiment_category, dtype: int64"
      ]
     },
     "execution_count": 28,
     "metadata": {},
     "output_type": "execute_result"
    }
   ],
   "source": [
    "X_train_df[\"sentiment_category\"].value_counts()"
   ]
  },
  {
   "cell_type": "code",
   "execution_count": 29,
   "id": "488ffbe6",
   "metadata": {},
   "outputs": [],
   "source": [
    "import nlpaug.augmenter.word.context_word_embs as aug\n",
    "import pandas as pd\n",
    "import numpy as np\n",
    "from tqdm import tqdm\n",
    "from sklearn.utils import shuffle\n",
    "\n",
    "augmenter = aug.ContextualWordEmbsAug(model_path='bert-base-uncased', action=\"insert\")\n",
    "\n",
    "def augmentedData(df, augmenter, category=\"negative\", repetitions=1, samples=50):\n",
    "    augmented_texts = []\n",
    "    augmented_sources = []\n",
    "    augmented_model_numbers = []\n",
    "    augmented_reviews = []\n",
    "    augmented_stars = []\n",
    "    augmented_sentiments = []\n",
    "    \n",
    "    aug_df = df[df['sentiment_category'] == category].reset_index(drop=True)\n",
    "\n",
    "    aug_df = aug_df.dropna(subset=['clean_Review'])\n",
    "\n",
    "    for i in tqdm(np.random.randint(0, len(aug_df), samples)):\n",
    "        for _ in range(repetitions):\n",
    "            augmented_text = augmenter.augment(aug_df['clean_Review'].iloc[i])\n",
    "            if isinstance(augmented_text, list):\n",
    "                augmented_text = ' '.join(augmented_text)\n",
    "            augmented_texts.append(augmented_text)\n",
    "            augmented_sources.append(aug_df['Source'].iloc[i])\n",
    "            augmented_model_numbers.append(aug_df['Model Number'].iloc[i])\n",
    "            augmented_reviews.append(aug_df['Review'].iloc[i])\n",
    "            augmented_stars.append(aug_df['Stars'].iloc[i])\n",
    "            augmented_sentiments.append(aug_df['sentiment'].iloc[i])\n",
    "\n",
    "    data = {\n",
    "        'sentiment_category': [category] * len(augmented_texts),\n",
    "        'Source': augmented_sources,\n",
    "        'Model Number': augmented_model_numbers,\n",
    "        'Review': augmented_reviews,\n",
    "        'Stars': augmented_stars,\n",
    "        'clean_Review': augmented_texts,\n",
    "        'sentiment': augmented_sentiments\n",
    "    }\n",
    "    \n",
    "    aug_df_new = pd.DataFrame(data)\n",
    "    df = shuffle(df.append(aug_df_new, ignore_index=True))\n",
    "    return df\n"
   ]
  },
  {
   "cell_type": "code",
   "execution_count": 30,
   "id": "e01719a3",
   "metadata": {},
   "outputs": [
    {
     "name": "stderr",
     "output_type": "stream",
     "text": [
      "100%|████████████████████████████████████████████████████████████████████████████████| 200/200 [16:27<00:00,  4.94s/it]\n",
      "C:\\Users\\stuti\\AppData\\Local\\Temp\\ipykernel_9488\\2640691266.py:44: FutureWarning: The frame.append method is deprecated and will be removed from pandas in a future version. Use pandas.concat instead.\n",
      "  df = shuffle(df.append(aug_df_new, ignore_index=True))\n"
     ]
    }
   ],
   "source": [
    "from tqdm import tqdm\n",
    "from sklearn.utils import shuffle\n",
    "X_train_aug_df = augmentedData(X_train_df, augmenter, samples=200)"
   ]
  },
  {
   "cell_type": "code",
   "execution_count": 31,
   "id": "d15a6e14",
   "metadata": {},
   "outputs": [
    {
     "data": {
      "text/plain": [
       "positive    395\n",
       "negative    248\n",
       "neutral      53\n",
       "Name: sentiment_category, dtype: int64"
      ]
     },
     "execution_count": 31,
     "metadata": {},
     "output_type": "execute_result"
    }
   ],
   "source": [
    "X_train_aug_df[\"sentiment_category\"].value_counts()"
   ]
  },
  {
   "cell_type": "code",
   "execution_count": 32,
   "id": "354865aa",
   "metadata": {},
   "outputs": [
    {
     "data": {
      "text/html": [
       "<div>\n",
       "<style scoped>\n",
       "    .dataframe tbody tr th:only-of-type {\n",
       "        vertical-align: middle;\n",
       "    }\n",
       "\n",
       "    .dataframe tbody tr th {\n",
       "        vertical-align: top;\n",
       "    }\n",
       "\n",
       "    .dataframe thead th {\n",
       "        text-align: right;\n",
       "    }\n",
       "</style>\n",
       "<table border=\"1\" class=\"dataframe\">\n",
       "  <thead>\n",
       "    <tr style=\"text-align: right;\">\n",
       "      <th></th>\n",
       "      <th>Source</th>\n",
       "      <th>Model Number</th>\n",
       "      <th>Review</th>\n",
       "      <th>Stars</th>\n",
       "      <th>clean_Review</th>\n",
       "      <th>sentiment</th>\n",
       "      <th>sentiment_category</th>\n",
       "    </tr>\n",
       "  </thead>\n",
       "  <tbody>\n",
       "    <tr>\n",
       "      <th>19</th>\n",
       "      <td>Amazon</td>\n",
       "      <td>FHM1409BDM.AMBQEIL</td>\n",
       "      <td>Perfect washing machine.good wash quality. Eas...</td>\n",
       "      <td>5.0</td>\n",
       "      <td>perfect washing machinegood wash quality easy ...</td>\n",
       "      <td>0.716667</td>\n",
       "      <td>positive</td>\n",
       "    </tr>\n",
       "    <tr>\n",
       "      <th>21</th>\n",
       "      <td>Amazon</td>\n",
       "      <td>27SR50F-W.ATR</td>\n",
       "      <td>Pros:\\n+ Excellent picture quality\\n+ 2 hdmi p...</td>\n",
       "      <td>4.0</td>\n",
       "      <td>pros  excellent picture quality   hdmi ports  ...</td>\n",
       "      <td>0.124113</td>\n",
       "      <td>positive</td>\n",
       "    </tr>\n",
       "    <tr>\n",
       "      <th>651</th>\n",
       "      <td>Amazon</td>\n",
       "      <td>GL-L257CMCX.DMCZEBN</td>\n",
       "      <td>Multi air flow is worst always loose cooling a...</td>\n",
       "      <td>1.0</td>\n",
       "      <td>multi functional air conditioned flow is worst...</td>\n",
       "      <td>-0.192308</td>\n",
       "      <td>negative</td>\n",
       "    </tr>\n",
       "    <tr>\n",
       "      <th>257</th>\n",
       "      <td>Amazon</td>\n",
       "      <td>GL-D201ASCU.ASCZEBN</td>\n",
       "      <td>Ice making, look, size, capacity is wonderful....</td>\n",
       "      <td>5.0</td>\n",
       "      <td>ice making look size capacity is wonderful it ...</td>\n",
       "      <td>0.650000</td>\n",
       "      <td>positive</td>\n",
       "    </tr>\n",
       "    <tr>\n",
       "      <th>50</th>\n",
       "      <td>Amazon</td>\n",
       "      <td>T80SNMB1Z.ABMQEIL</td>\n",
       "      <td>Its good value for money</td>\n",
       "      <td>5.0</td>\n",
       "      <td>its good value for money</td>\n",
       "      <td>0.700000</td>\n",
       "      <td>positive</td>\n",
       "    </tr>\n",
       "  </tbody>\n",
       "</table>\n",
       "</div>"
      ],
      "text/plain": [
       "     Source         Model Number  \\\n",
       "19   Amazon   FHM1409BDM.AMBQEIL   \n",
       "21   Amazon        27SR50F-W.ATR   \n",
       "651  Amazon  GL-L257CMCX.DMCZEBN   \n",
       "257  Amazon  GL-D201ASCU.ASCZEBN   \n",
       "50   Amazon    T80SNMB1Z.ABMQEIL   \n",
       "\n",
       "                                                Review  Stars  \\\n",
       "19   Perfect washing machine.good wash quality. Eas...    5.0   \n",
       "21   Pros:\\n+ Excellent picture quality\\n+ 2 hdmi p...    4.0   \n",
       "651  Multi air flow is worst always loose cooling a...    1.0   \n",
       "257  Ice making, look, size, capacity is wonderful....    5.0   \n",
       "50                            Its good value for money    5.0   \n",
       "\n",
       "                                          clean_Review  sentiment  \\\n",
       "19   perfect washing machinegood wash quality easy ...   0.716667   \n",
       "21   pros  excellent picture quality   hdmi ports  ...   0.124113   \n",
       "651  multi functional air conditioned flow is worst...  -0.192308   \n",
       "257  ice making look size capacity is wonderful it ...   0.650000   \n",
       "50                            its good value for money   0.700000   \n",
       "\n",
       "    sentiment_category  \n",
       "19            positive  \n",
       "21            positive  \n",
       "651           negative  \n",
       "257           positive  \n",
       "50            positive  "
      ]
     },
     "execution_count": 32,
     "metadata": {},
     "output_type": "execute_result"
    }
   ],
   "source": [
    "X_train_aug_df.head()"
   ]
  },
  {
   "cell_type": "code",
   "execution_count": 33,
   "id": "03bb88f6",
   "metadata": {},
   "outputs": [
    {
     "data": {
      "text/html": [
       "<div>\n",
       "<style scoped>\n",
       "    .dataframe tbody tr th:only-of-type {\n",
       "        vertical-align: middle;\n",
       "    }\n",
       "\n",
       "    .dataframe tbody tr th {\n",
       "        vertical-align: top;\n",
       "    }\n",
       "\n",
       "    .dataframe thead th {\n",
       "        text-align: right;\n",
       "    }\n",
       "</style>\n",
       "<table border=\"1\" class=\"dataframe\">\n",
       "  <thead>\n",
       "    <tr style=\"text-align: right;\">\n",
       "      <th></th>\n",
       "      <th>Source</th>\n",
       "      <th>Model Number</th>\n",
       "      <th>Review</th>\n",
       "      <th>Stars</th>\n",
       "      <th>clean_Review</th>\n",
       "      <th>sentiment</th>\n",
       "      <th>sentiment_category</th>\n",
       "    </tr>\n",
       "  </thead>\n",
       "  <tbody>\n",
       "    <tr>\n",
       "      <th>19</th>\n",
       "      <td>Amazon</td>\n",
       "      <td>FHM1409BDM.AMBQEIL</td>\n",
       "      <td>Perfect washing machine.good wash quality. Eas...</td>\n",
       "      <td>5.0</td>\n",
       "      <td>perfect washing machinegood wash quality easy ...</td>\n",
       "      <td>0.716667</td>\n",
       "      <td>positive</td>\n",
       "    </tr>\n",
       "    <tr>\n",
       "      <th>21</th>\n",
       "      <td>Amazon</td>\n",
       "      <td>27SR50F-W.ATR</td>\n",
       "      <td>Pros:\\n+ Excellent picture quality\\n+ 2 hdmi p...</td>\n",
       "      <td>4.0</td>\n",
       "      <td>pros  excellent picture quality   hdmi ports  ...</td>\n",
       "      <td>0.124113</td>\n",
       "      <td>positive</td>\n",
       "    </tr>\n",
       "    <tr>\n",
       "      <th>651</th>\n",
       "      <td>Amazon</td>\n",
       "      <td>GL-L257CMCX.DMCZEBN</td>\n",
       "      <td>Multi air flow is worst always loose cooling a...</td>\n",
       "      <td>1.0</td>\n",
       "      <td>multi functional air conditioned flow is worst...</td>\n",
       "      <td>-0.192308</td>\n",
       "      <td>negative</td>\n",
       "    </tr>\n",
       "    <tr>\n",
       "      <th>257</th>\n",
       "      <td>Amazon</td>\n",
       "      <td>GL-D201ASCU.ASCZEBN</td>\n",
       "      <td>Ice making, look, size, capacity is wonderful....</td>\n",
       "      <td>5.0</td>\n",
       "      <td>ice making look size capacity is wonderful it ...</td>\n",
       "      <td>0.650000</td>\n",
       "      <td>positive</td>\n",
       "    </tr>\n",
       "    <tr>\n",
       "      <th>50</th>\n",
       "      <td>Amazon</td>\n",
       "      <td>T80SNMB1Z.ABMQEIL</td>\n",
       "      <td>Its good value for money</td>\n",
       "      <td>5.0</td>\n",
       "      <td>its good value for money</td>\n",
       "      <td>0.700000</td>\n",
       "      <td>positive</td>\n",
       "    </tr>\n",
       "    <tr>\n",
       "      <th>...</th>\n",
       "      <td>...</td>\n",
       "      <td>...</td>\n",
       "      <td>...</td>\n",
       "      <td>...</td>\n",
       "      <td>...</td>\n",
       "      <td>...</td>\n",
       "      <td>...</td>\n",
       "    </tr>\n",
       "    <tr>\n",
       "      <th>330</th>\n",
       "      <td>Amazon</td>\n",
       "      <td>GL-N312SDSY.ADSZEBN</td>\n",
       "      <td>Very satisfying performance. Excellent cooling...</td>\n",
       "      <td>5.0</td>\n",
       "      <td>very satisfying performance excellent cooling ...</td>\n",
       "      <td>0.912500</td>\n",
       "      <td>positive</td>\n",
       "    </tr>\n",
       "    <tr>\n",
       "      <th>531</th>\n",
       "      <td>Amazon</td>\n",
       "      <td>T80SNMB1Z.ABMQEIL</td>\n",
       "      <td>Bad delivery service , product was different f...</td>\n",
       "      <td>1.0</td>\n",
       "      <td>our bad delivery clean service product was som...</td>\n",
       "      <td>-0.350000</td>\n",
       "      <td>negative</td>\n",
       "    </tr>\n",
       "    <tr>\n",
       "      <th>105</th>\n",
       "      <td>Amazon</td>\n",
       "      <td>GL-L257CMCX.DMCZEBN</td>\n",
       "      <td>Great buy !</td>\n",
       "      <td>5.0</td>\n",
       "      <td>great buy</td>\n",
       "      <td>0.800000</td>\n",
       "      <td>positive</td>\n",
       "    </tr>\n",
       "    <tr>\n",
       "      <th>512</th>\n",
       "      <td>Amazon</td>\n",
       "      <td>T80SNMB1Z.ABMQEIL</td>\n",
       "      <td>It was bought on 20.01.22 and after 2 months W...</td>\n",
       "      <td>1.0</td>\n",
       "      <td>it was bought on and made after months wash tu...</td>\n",
       "      <td>-0.416667</td>\n",
       "      <td>negative</td>\n",
       "    </tr>\n",
       "    <tr>\n",
       "      <th>593</th>\n",
       "      <td>Amazon</td>\n",
       "      <td>T80SNMB1Z.ABMQEIL</td>\n",
       "      <td>Bad delivery service , product was different f...</td>\n",
       "      <td>1.0</td>\n",
       "      <td>bad milk delivery service product was no diffe...</td>\n",
       "      <td>-0.350000</td>\n",
       "      <td>negative</td>\n",
       "    </tr>\n",
       "  </tbody>\n",
       "</table>\n",
       "<p>696 rows × 7 columns</p>\n",
       "</div>"
      ],
      "text/plain": [
       "     Source         Model Number  \\\n",
       "19   Amazon   FHM1409BDM.AMBQEIL   \n",
       "21   Amazon        27SR50F-W.ATR   \n",
       "651  Amazon  GL-L257CMCX.DMCZEBN   \n",
       "257  Amazon  GL-D201ASCU.ASCZEBN   \n",
       "50   Amazon    T80SNMB1Z.ABMQEIL   \n",
       "..      ...                  ...   \n",
       "330  Amazon  GL-N312SDSY.ADSZEBN   \n",
       "531  Amazon    T80SNMB1Z.ABMQEIL   \n",
       "105  Amazon  GL-L257CMCX.DMCZEBN   \n",
       "512  Amazon    T80SNMB1Z.ABMQEIL   \n",
       "593  Amazon    T80SNMB1Z.ABMQEIL   \n",
       "\n",
       "                                                Review  Stars  \\\n",
       "19   Perfect washing machine.good wash quality. Eas...    5.0   \n",
       "21   Pros:\\n+ Excellent picture quality\\n+ 2 hdmi p...    4.0   \n",
       "651  Multi air flow is worst always loose cooling a...    1.0   \n",
       "257  Ice making, look, size, capacity is wonderful....    5.0   \n",
       "50                            Its good value for money    5.0   \n",
       "..                                                 ...    ...   \n",
       "330  Very satisfying performance. Excellent cooling...    5.0   \n",
       "531  Bad delivery service , product was different f...    1.0   \n",
       "105                                        Great buy !    5.0   \n",
       "512  It was bought on 20.01.22 and after 2 months W...    1.0   \n",
       "593  Bad delivery service , product was different f...    1.0   \n",
       "\n",
       "                                          clean_Review  sentiment  \\\n",
       "19   perfect washing machinegood wash quality easy ...   0.716667   \n",
       "21   pros  excellent picture quality   hdmi ports  ...   0.124113   \n",
       "651  multi functional air conditioned flow is worst...  -0.192308   \n",
       "257  ice making look size capacity is wonderful it ...   0.650000   \n",
       "50                            its good value for money   0.700000   \n",
       "..                                                 ...        ...   \n",
       "330  very satisfying performance excellent cooling ...   0.912500   \n",
       "531  our bad delivery clean service product was som...  -0.350000   \n",
       "105                                         great buy    0.800000   \n",
       "512  it was bought on and made after months wash tu...  -0.416667   \n",
       "593  bad milk delivery service product was no diffe...  -0.350000   \n",
       "\n",
       "    sentiment_category  \n",
       "19            positive  \n",
       "21            positive  \n",
       "651           negative  \n",
       "257           positive  \n",
       "50            positive  \n",
       "..                 ...  \n",
       "330           positive  \n",
       "531           negative  \n",
       "105           positive  \n",
       "512           negative  \n",
       "593           negative  \n",
       "\n",
       "[696 rows x 7 columns]"
      ]
     },
     "execution_count": 33,
     "metadata": {},
     "output_type": "execute_result"
    }
   ],
   "source": [
    "X_train_aug_df[X_train_aug_df['Source'] == \"Amazon\"]"
   ]
  },
  {
   "cell_type": "code",
   "execution_count": 34,
   "id": "46f7ef53",
   "metadata": {},
   "outputs": [
    {
     "data": {
      "image/png": "[encoded data removed]",
      "text/plain": [
       "<Figure size 1008x504 with 2 Axes>"
      ]
     },
     "metadata": {
      "needs_background": "light"
     },
     "output_type": "display_data"
    }
   ],
   "source": [
    "categorical_variable_summary(X_train_aug_df,'sentiment_category')"
   ]
  },
  {
   "cell_type": "code",
   "execution_count": 35,
   "id": "6f3986a0",
   "metadata": {},
   "outputs": [],
   "source": [
    "import nlpaug.augmenter.word.context_word_embs as aug\n",
    "import pandas as pd\n",
    "import numpy as np\n",
    "from tqdm import tqdm\n",
    "from sklearn.utils import shuffle\n",
    "\n",
    "augmenter = aug.ContextualWordEmbsAug(model_path='bert-base-uncased', action=\"insert\")\n",
    "\n",
    "def augmentedData(df, augmenter, category=\"neutral\", repetitions=1, samples=50):\n",
    "    augmented_texts = []\n",
    "    augmented_sources = []\n",
    "    augmented_model_numbers = []\n",
    "    augmented_reviews = []\n",
    "    augmented_stars = []\n",
    "    augmented_sentiments = []\n",
    "    \n",
    "    aug_df = df[df['sentiment_category'] == category].reset_index(drop=True)\n",
    "\n",
    "    aug_df = aug_df.dropna(subset=['clean_Review'])\n",
    "\n",
    "    for i in tqdm(np.random.randint(0, len(aug_df), samples)):\n",
    "        for _ in range(repetitions):\n",
    "            augmented_text = augmenter.augment(aug_df['clean_Review'].iloc[i])\n",
    "            if isinstance(augmented_text, list):\n",
    "                augmented_text = ' '.join(augmented_text)\n",
    "            augmented_texts.append(augmented_text)\n",
    "            augmented_sources.append(aug_df['Source'].iloc[i])\n",
    "            augmented_model_numbers.append(aug_df['Model Number'].iloc[i])\n",
    "            augmented_reviews.append(aug_df['Review'].iloc[i])\n",
    "            augmented_stars.append(aug_df['Stars'].iloc[i])\n",
    "            augmented_sentiments.append(aug_df['sentiment'].iloc[i])\n",
    "\n",
    "    data = {\n",
    "        'sentiment_category': [category] * len(augmented_texts),\n",
    "        'Source': augmented_sources,\n",
    "        'Model Number': augmented_model_numbers,\n",
    "        'Review': augmented_reviews,\n",
    "        'Stars': augmented_stars,\n",
    "        'clean_Review': augmented_texts,\n",
    "        'sentiment': augmented_sentiments\n",
    "    }\n",
    "    \n",
    "    aug_df_new = pd.DataFrame(data)\n",
    "    df = shuffle(df.append(aug_df_new, ignore_index=True))\n",
    "    return df\n"
   ]
  },
  {
   "cell_type": "code",
   "execution_count": 36,
   "id": "6e91bcaf",
   "metadata": {},
   "outputs": [
    {
     "name": "stderr",
     "output_type": "stream",
     "text": [
      "100%|████████████████████████████████████████████████████████████████████████████████| 200/200 [03:58<00:00,  1.19s/it]\n",
      "C:\\Users\\stuti\\AppData\\Local\\Temp\\ipykernel_9488\\3645405596.py:44: FutureWarning: The frame.append method is deprecated and will be removed from pandas in a future version. Use pandas.concat instead.\n",
      "  df = shuffle(df.append(aug_df_new, ignore_index=True))\n"
     ]
    }
   ],
   "source": [
    "from tqdm import tqdm\n",
    "from sklearn.utils import shuffle\n",
    "X_train_aug_df = augmentedData(X_train_aug_df, augmenter, samples=200)"
   ]
  },
  {
   "cell_type": "code",
   "execution_count": 37,
   "id": "44c61dc5",
   "metadata": {},
   "outputs": [
    {
     "data": {
      "text/plain": [
       "positive    395\n",
       "neutral     253\n",
       "negative    248\n",
       "Name: sentiment_category, dtype: int64"
      ]
     },
     "execution_count": 37,
     "metadata": {},
     "output_type": "execute_result"
    }
   ],
   "source": [
    "X_train_aug_df[\"sentiment_category\"].value_counts()"
   ]
  },
  {
   "cell_type": "code",
   "execution_count": 38,
   "id": "b57541d9",
   "metadata": {},
   "outputs": [
    {
     "data": {
      "text/html": [
       "<div>\n",
       "<style scoped>\n",
       "    .dataframe tbody tr th:only-of-type {\n",
       "        vertical-align: middle;\n",
       "    }\n",
       "\n",
       "    .dataframe tbody tr th {\n",
       "        vertical-align: top;\n",
       "    }\n",
       "\n",
       "    .dataframe thead th {\n",
       "        text-align: right;\n",
       "    }\n",
       "</style>\n",
       "<table border=\"1\" class=\"dataframe\">\n",
       "  <thead>\n",
       "    <tr style=\"text-align: right;\">\n",
       "      <th></th>\n",
       "      <th>Source</th>\n",
       "      <th>Model Number</th>\n",
       "      <th>Review</th>\n",
       "      <th>Stars</th>\n",
       "      <th>clean_Review</th>\n",
       "      <th>sentiment</th>\n",
       "      <th>sentiment_category</th>\n",
       "    </tr>\n",
       "  </thead>\n",
       "  <tbody>\n",
       "    <tr>\n",
       "      <th>145</th>\n",
       "      <td>Amazon</td>\n",
       "      <td>24QP550-B.ATR</td>\n",
       "      <td>Till now all looks good. Will update after som...</td>\n",
       "      <td>4.0</td>\n",
       "      <td>till now all looks good will update after some...</td>\n",
       "      <td>0.700000</td>\n",
       "      <td>positive</td>\n",
       "    </tr>\n",
       "    <tr>\n",
       "      <th>459</th>\n",
       "      <td>Amazon</td>\n",
       "      <td>T80SNMB1Z.ABMQEIL</td>\n",
       "      <td>Simply awesome ! Ease of use super technology ...</td>\n",
       "      <td>5.0</td>\n",
       "      <td>simply awesome  ease of use super technology n...</td>\n",
       "      <td>0.326667</td>\n",
       "      <td>positive</td>\n",
       "    </tr>\n",
       "    <tr>\n",
       "      <th>764</th>\n",
       "      <td>Amazon</td>\n",
       "      <td>GL-D201ASCU.ASCZEBN</td>\n",
       "      <td>Not suggesting</td>\n",
       "      <td>3.0</td>\n",
       "      <td>absolutely not suggesting</td>\n",
       "      <td>0.000000</td>\n",
       "      <td>neutral</td>\n",
       "    </tr>\n",
       "    <tr>\n",
       "      <th>305</th>\n",
       "      <td>Amazon</td>\n",
       "      <td>T80SNMB1Z.ABMQEIL</td>\n",
       "      <td>Very worst service and worst quality.. Don't e...</td>\n",
       "      <td>1.0</td>\n",
       "      <td>very worst service and worst quality dont ever...</td>\n",
       "      <td>-0.550000</td>\n",
       "      <td>negative</td>\n",
       "    </tr>\n",
       "    <tr>\n",
       "      <th>635</th>\n",
       "      <td>Amazon</td>\n",
       "      <td>GL-D201ASCU.ASCZEBN</td>\n",
       "      <td>I like size, cooling, installation, value for ...</td>\n",
       "      <td>4.0</td>\n",
       "      <td>i like size cooling installation value for mon...</td>\n",
       "      <td>-0.125000</td>\n",
       "      <td>negative</td>\n",
       "    </tr>\n",
       "    <tr>\n",
       "      <th>...</th>\n",
       "      <td>...</td>\n",
       "      <td>...</td>\n",
       "      <td>...</td>\n",
       "      <td>...</td>\n",
       "      <td>...</td>\n",
       "      <td>...</td>\n",
       "      <td>...</td>\n",
       "    </tr>\n",
       "    <tr>\n",
       "      <th>755</th>\n",
       "      <td>Amazon</td>\n",
       "      <td>GL-S262SPZX.APZZEBN</td>\n",
       "      <td>Installation service poor,the man insisted to ...</td>\n",
       "      <td>2.0</td>\n",
       "      <td>installation of service the poorthe young man ...</td>\n",
       "      <td>0.000000</td>\n",
       "      <td>neutral</td>\n",
       "    </tr>\n",
       "    <tr>\n",
       "      <th>856</th>\n",
       "      <td>Amazon</td>\n",
       "      <td>24QP550-B.ATR</td>\n",
       "      <td>There is no speaker.\\nIf I attach an external ...</td>\n",
       "      <td>1.0</td>\n",
       "      <td>there is no speaker if i attach an external sp...</td>\n",
       "      <td>0.000000</td>\n",
       "      <td>neutral</td>\n",
       "    </tr>\n",
       "    <tr>\n",
       "      <th>815</th>\n",
       "      <td>Amazon</td>\n",
       "      <td>27SR50F-W.ATR</td>\n",
       "      <td>Ultimate Picture quality</td>\n",
       "      <td>5.0</td>\n",
       "      <td>its ultimate picture quality</td>\n",
       "      <td>0.000000</td>\n",
       "      <td>neutral</td>\n",
       "    </tr>\n",
       "    <tr>\n",
       "      <th>707</th>\n",
       "      <td>Amazon</td>\n",
       "      <td>T80SNMB1Z.ABMQEIL</td>\n",
       "      <td>Earlier I had Whirlpool, which was very pathet...</td>\n",
       "      <td>4.0</td>\n",
       "      <td>even earlier i only had whirlpool which also w...</td>\n",
       "      <td>0.000000</td>\n",
       "      <td>neutral</td>\n",
       "    </tr>\n",
       "    <tr>\n",
       "      <th>480</th>\n",
       "      <td>Amazon</td>\n",
       "      <td>GL-D201ASCU.ASCZEBN</td>\n",
       "      <td>Awesome guys. Go for it</td>\n",
       "      <td>5.0</td>\n",
       "      <td>awesome guys go for it</td>\n",
       "      <td>1.000000</td>\n",
       "      <td>positive</td>\n",
       "    </tr>\n",
       "  </tbody>\n",
       "</table>\n",
       "<p>896 rows × 7 columns</p>\n",
       "</div>"
      ],
      "text/plain": [
       "     Source         Model Number  \\\n",
       "145  Amazon        24QP550-B.ATR   \n",
       "459  Amazon    T80SNMB1Z.ABMQEIL   \n",
       "764  Amazon  GL-D201ASCU.ASCZEBN   \n",
       "305  Amazon    T80SNMB1Z.ABMQEIL   \n",
       "635  Amazon  GL-D201ASCU.ASCZEBN   \n",
       "..      ...                  ...   \n",
       "755  Amazon  GL-S262SPZX.APZZEBN   \n",
       "856  Amazon        24QP550-B.ATR   \n",
       "815  Amazon        27SR50F-W.ATR   \n",
       "707  Amazon    T80SNMB1Z.ABMQEIL   \n",
       "480  Amazon  GL-D201ASCU.ASCZEBN   \n",
       "\n",
       "                                                Review  Stars  \\\n",
       "145  Till now all looks good. Will update after som...    4.0   \n",
       "459  Simply awesome ! Ease of use super technology ...    5.0   \n",
       "764                                     Not suggesting    3.0   \n",
       "305  Very worst service and worst quality.. Don't e...    1.0   \n",
       "635  I like size, cooling, installation, value for ...    4.0   \n",
       "..                                                 ...    ...   \n",
       "755  Installation service poor,the man insisted to ...    2.0   \n",
       "856  There is no speaker.\\nIf I attach an external ...    1.0   \n",
       "815                           Ultimate Picture quality    5.0   \n",
       "707  Earlier I had Whirlpool, which was very pathet...    4.0   \n",
       "480                            Awesome guys. Go for it    5.0   \n",
       "\n",
       "                                          clean_Review  sentiment  \\\n",
       "145  till now all looks good will update after some...   0.700000   \n",
       "459  simply awesome  ease of use super technology n...   0.326667   \n",
       "764                          absolutely not suggesting   0.000000   \n",
       "305  very worst service and worst quality dont ever...  -0.550000   \n",
       "635  i like size cooling installation value for mon...  -0.125000   \n",
       "..                                                 ...        ...   \n",
       "755  installation of service the poorthe young man ...   0.000000   \n",
       "856  there is no speaker if i attach an external sp...   0.000000   \n",
       "815                       its ultimate picture quality   0.000000   \n",
       "707  even earlier i only had whirlpool which also w...   0.000000   \n",
       "480                             awesome guys go for it   1.000000   \n",
       "\n",
       "    sentiment_category  \n",
       "145           positive  \n",
       "459           positive  \n",
       "764            neutral  \n",
       "305           negative  \n",
       "635           negative  \n",
       "..                 ...  \n",
       "755            neutral  \n",
       "856            neutral  \n",
       "815            neutral  \n",
       "707            neutral  \n",
       "480           positive  \n",
       "\n",
       "[896 rows x 7 columns]"
      ]
     },
     "execution_count": 38,
     "metadata": {},
     "output_type": "execute_result"
    }
   ],
   "source": [
    "X_train_aug_df"
   ]
  },
  {
   "cell_type": "code",
   "execution_count": 39,
   "id": "b5b0543a",
   "metadata": {},
   "outputs": [
    {
     "data": {
      "image/png": "[encoded data removed]",
      "text/plain": [
       "<Figure size 1008x504 with 2 Axes>"
      ]
     },
     "metadata": {
      "needs_background": "light"
     },
     "output_type": "display_data"
    }
   ],
   "source": [
    "categorical_variable_summary(X_train_aug_df,'sentiment_category')"
   ]
  },
  {
   "cell_type": "code",
   "execution_count": 40,
   "id": "6d04fb55",
   "metadata": {},
   "outputs": [
    {
     "name": "stdout",
     "output_type": "stream",
     "text": [
      "Size of X_train_df: (496, 7)\n",
      "Size of X_test_df: (125, 7)\n"
     ]
    }
   ],
   "source": [
    "print(\"Size of X_train_df:\", (X_train_df.shape))\n",
    "print(\"Size of X_test_df:\", (X_test_df.shape))"
   ]
  },
  {
   "cell_type": "code",
   "execution_count": 41,
   "id": "632a51fe",
   "metadata": {},
   "outputs": [
    {
     "name": "stdout",
     "output_type": "stream",
     "text": [
      "Size of X_train_aug_df: (896, 7)\n",
      "Size of X_test_df: (125, 7)\n"
     ]
    }
   ],
   "source": [
    "print(\"Size of X_train_aug_df:\", (X_train_aug_df.shape))\n",
    "print(\"Size of X_test_df:\", (X_test_df.shape))"
   ]
  },
  {
   "cell_type": "code",
   "execution_count": 42,
   "id": "10cd1c83",
   "metadata": {},
   "outputs": [],
   "source": [
    "from sklearn.feature_extraction.text import TfidfVectorizer\n",
    "vectorizer = TfidfVectorizer(max_features=5000)\n",
    "X = vectorizer.fit_transform(X_train_aug_df['clean_Review'])\n",
    "y = X_train_aug_df['sentiment_category']"
   ]
  },
  {
   "cell_type": "code",
   "execution_count": 43,
   "id": "9a3d6afb",
   "metadata": {},
   "outputs": [
    {
     "name": "stdout",
     "output_type": "stream",
     "text": [
      "Size of X_train: (716, 3061)\n",
      "Size of y_train: (716,)\n",
      "Size of X_val: (180, 3061)\n",
      "Size of y_val: (180,)\n"
     ]
    }
   ],
   "source": [
    "from sklearn.model_selection import train_test_split\n",
    "X_train, X_val, y_train, y_val = train_test_split(X, y, test_size=0.2, random_state=42)\n",
    "\n",
    "print(\"Size of X_train:\", X_train.shape)\n",
    "print(\"Size of y_train:\", y_train.shape)\n",
    "print(\"Size of X_val:\", X_val.shape)\n",
    "print(\"Size of y_val:\", y_val.shape)"
   ]
  },
  {
   "cell_type": "code",
   "execution_count": 44,
   "id": "2903364d",
   "metadata": {},
   "outputs": [
    {
     "data": {
      "text/plain": [
       "positive    82\n",
       "neutral     51\n",
       "negative    47\n",
       "Name: sentiment_category, dtype: int64"
      ]
     },
     "execution_count": 44,
     "metadata": {},
     "output_type": "execute_result"
    }
   ],
   "source": [
    "y_val.value_counts()"
   ]
  },
  {
   "cell_type": "code",
   "execution_count": 45,
   "id": "7a0c9c77",
   "metadata": {},
   "outputs": [
    {
     "name": "stdout",
     "output_type": "stream",
     "text": [
      "              precision    recall  f1-score   support\n",
      "\n",
      "    negative       0.98      1.00      0.99        47\n",
      "     neutral       0.91      1.00      0.95        51\n",
      "    positive       1.00      0.93      0.96        82\n",
      "\n",
      "    accuracy                           0.97       180\n",
      "   macro avg       0.96      0.98      0.97       180\n",
      "weighted avg       0.97      0.97      0.97       180\n",
      "\n"
     ]
    }
   ],
   "source": [
    "from sklearn.metrics import classification_report, accuracy_score, confusion_matrix\n",
    "from sklearn.ensemble import RandomForestClassifier\n",
    "\n",
    "random_forest_model = RandomForestClassifier(n_estimators=100, random_state=42)\n",
    "random_forest_model.fit(X_train, y_train)\n",
    "\n",
    "y_pred = random_forest_model.predict(X_val)\n",
    "print(classification_report(y_val, y_pred))"
   ]
  },
  {
   "cell_type": "code",
   "execution_count": 46,
   "id": "d9268291",
   "metadata": {},
   "outputs": [
    {
     "name": "stdout",
     "output_type": "stream",
     "text": [
      "Size of X_test: (125, 3061)\n",
      "Size of y_test: (125,)\n"
     ]
    }
   ],
   "source": [
    "X_test = vectorizer.transform(X_test_df['clean_Review'])\n",
    "y_test = X_test_df['sentiment_category']\n",
    "\n",
    "print(\"Size of X_test:\", X_test.shape)\n",
    "print(\"Size of y_test:\", y_test.shape)"
   ]
  },
  {
   "cell_type": "code",
   "execution_count": 47,
   "id": "b5729b35",
   "metadata": {},
   "outputs": [
    {
     "data": {
      "text/plain": [
       "positive    97\n",
       "negative    17\n",
       "neutral     11\n",
       "Name: sentiment_category, dtype: int64"
      ]
     },
     "execution_count": 47,
     "metadata": {},
     "output_type": "execute_result"
    }
   ],
   "source": [
    "X_test_df[\"sentiment_category\"].value_counts() "
   ]
  },
  {
   "cell_type": "code",
   "execution_count": 48,
   "id": "a0723ca4",
   "metadata": {},
   "outputs": [
    {
     "name": "stdout",
     "output_type": "stream",
     "text": [
      "              precision    recall  f1-score   support\n",
      "\n",
      "    negative       0.86      0.35      0.50        17\n",
      "     neutral       0.53      0.73      0.62        11\n",
      "    positive       0.88      0.94      0.91        97\n",
      "\n",
      "    accuracy                           0.84       125\n",
      "   macro avg       0.76      0.67      0.68       125\n",
      "weighted avg       0.85      0.84      0.83       125\n",
      "\n"
     ]
    }
   ],
   "source": [
    "y_test_pred = random_forest_model.predict(X_test)\n",
    "print(classification_report(y_test, y_test_pred))"
   ]
  },
  {
   "cell_type": "code",
   "execution_count": 49,
   "id": "c738f317",
   "metadata": {},
   "outputs": [
    {
     "data": {
      "text/plain": [
       "<sklearn.metrics._plot.confusion_matrix.ConfusionMatrixDisplay at 0x1c0d5a3a790>"
      ]
     },
     "execution_count": 49,
     "metadata": {},
     "output_type": "execute_result"
    },
    {
     "data": {
      "image/png": "[encoded data removed]",
      "text/plain": [
       "<Figure size 640x480 with 2 Axes>"
      ]
     },
     "metadata": {},
     "output_type": "display_data"
    }
   ],
   "source": [
    "from matplotlib import style\n",
    "from sklearn.metrics import confusion_matrix,ConfusionMatrixDisplay\n",
    "\n",
    "style.use('classic')\n",
    "cm = confusion_matrix(y_test,y_test_pred,labels=random_forest_model.classes_)\n",
    "display = ConfusionMatrixDisplay(confusion_matrix=cm,display_labels=random_forest_model.classes_)\n",
    "display.plot()"
   ]
  },
  {
   "cell_type": "code",
   "execution_count": 50,
   "id": "59d7a491",
   "metadata": {},
   "outputs": [
    {
     "name": "stdout",
     "output_type": "stream",
     "text": [
      "              precision    recall  f1-score   support\n",
      "\n",
      "    negative       0.85      1.00      0.92        47\n",
      "     neutral       0.98      1.00      0.99        51\n",
      "    positive       1.00      0.89      0.94        82\n",
      "\n",
      "    accuracy                           0.95       180\n",
      "   macro avg       0.95      0.96      0.95       180\n",
      "weighted avg       0.96      0.95      0.95       180\n",
      "\n"
     ]
    }
   ],
   "source": [
    "from sklearn.linear_model import LogisticRegression\n",
    "\n",
    "softmax_regression_model = LogisticRegression(max_iter=1000, multi_class='multinomial', solver='lbfgs', random_state=42)\n",
    "softmax_regression_model.fit(X_train, y_train)\n",
    "y_val_pred = softmax_regression_model.predict(X_val)\n",
    "print(classification_report(y_val, y_val_pred))"
   ]
  },
  {
   "cell_type": "code",
   "execution_count": 51,
   "id": "9e242699",
   "metadata": {},
   "outputs": [
    {
     "name": "stdout",
     "output_type": "stream",
     "text": [
      "              precision    recall  f1-score   support\n",
      "\n",
      "    negative       0.64      0.53      0.58        17\n",
      "     neutral       0.71      0.45      0.56        11\n",
      "    positive       0.89      0.96      0.93        97\n",
      "\n",
      "    accuracy                           0.86       125\n",
      "   macro avg       0.75      0.65      0.69       125\n",
      "weighted avg       0.84      0.86      0.85       125\n",
      "\n"
     ]
    }
   ],
   "source": [
    "y_test_pred = softmax_regression_model.predict(X_test)\n",
    "print(classification_report(y_test, y_test_pred))"
   ]
  },
  {
   "cell_type": "code",
   "execution_count": 52,
   "id": "a9dd1781",
   "metadata": {},
   "outputs": [
    {
     "data": {
      "text/plain": [
       "<sklearn.metrics._plot.confusion_matrix.ConfusionMatrixDisplay at 0x1c0801383d0>"
      ]
     },
     "execution_count": 52,
     "metadata": {},
     "output_type": "execute_result"
    },
    {
     "data": {
      "image/png": "[encoded data removed]",
      "text/plain": [
       "<Figure size 640x480 with 2 Axes>"
      ]
     },
     "metadata": {},
     "output_type": "display_data"
    }
   ],
   "source": [
    "style.use('classic')\n",
    "cm = confusion_matrix(y_test,y_test_pred,labels=softmax_regression_model.classes_)\n",
    "display = ConfusionMatrixDisplay(confusion_matrix=cm,display_labels=softmax_regression_model.classes_)\n",
    "display.plot()"
   ]
  },
  {
   "cell_type": "code",
   "execution_count": null,
   "id": "1f4de1cd",
   "metadata": {},
   "outputs": [],
   "source": []
  },
  {
   "cell_type": "code",
   "execution_count": 53,
   "id": "bbe06db0",
   "metadata": {},
   "outputs": [
    {
     "name": "stdout",
     "output_type": "stream",
     "text": [
      "              precision    recall  f1-score   support\n",
      "\n",
      "    negative       0.88      0.96      0.92        47\n",
      "     neutral       0.86      1.00      0.93        51\n",
      "    positive       0.99      0.84      0.91        82\n",
      "\n",
      "    accuracy                           0.92       180\n",
      "   macro avg       0.91      0.93      0.92       180\n",
      "weighted avg       0.92      0.92      0.92       180\n",
      "\n"
     ]
    }
   ],
   "source": [
    "from xgboost import XGBClassifier\n",
    "from sklearn.preprocessing import LabelEncoder\n",
    "\n",
    "label_encoder = LabelEncoder()\n",
    "\n",
    "y_train_encoded = label_encoder.fit_transform(y_train)\n",
    "\n",
    "xgb_model = XGBClassifier(objective='multi:softmax', num_class=3, eval_metric='mlogloss', random_state=42)\n",
    "xgb_model.fit(X_train, y_train_encoded)\n",
    "\n",
    "y_val_pred = xgb_model.predict(X_val)\n",
    "y_val_pred_labels = label_encoder.inverse_transform(y_val_pred)\n",
    "\n",
    "print(classification_report(y_val, y_val_pred_labels))"
   ]
  },
  {
   "cell_type": "code",
   "execution_count": 54,
   "id": "865263d0",
   "metadata": {},
   "outputs": [
    {
     "name": "stdout",
     "output_type": "stream",
     "text": [
      "              precision    recall  f1-score   support\n",
      "\n",
      "    negative       0.53      0.47      0.50        17\n",
      "     neutral       0.50      0.91      0.65        11\n",
      "    positive       0.93      0.87      0.90        97\n",
      "\n",
      "    accuracy                           0.82       125\n",
      "   macro avg       0.66      0.75      0.68       125\n",
      "weighted avg       0.84      0.82      0.82       125\n",
      "\n"
     ]
    }
   ],
   "source": [
    "y_test_encoded = label_encoder.transform(y_test)\n",
    "\n",
    "y_test_pred = xgb_model.predict(X_test)\n",
    "y_test_pred_labels = label_encoder.inverse_transform(y_test_pred)\n",
    "\n",
    "print(classification_report(y_test, y_test_pred_labels))"
   ]
  },
  {
   "cell_type": "code",
   "execution_count": 55,
   "id": "7c3999f0",
   "metadata": {},
   "outputs": [
    {
     "data": {
      "text/plain": [
       "<sklearn.metrics._plot.confusion_matrix.ConfusionMatrixDisplay at 0x1c0825b67f0>"
      ]
     },
     "execution_count": 55,
     "metadata": {},
     "output_type": "execute_result"
    },
    {
     "data": {
      "image/png": "[encoded data removed]",
      "text/plain": [
       "<Figure size 640x480 with 2 Axes>"
      ]
     },
     "metadata": {},
     "output_type": "display_data"
    }
   ],
   "source": [
    "plt.style.use('classic')\n",
    "cm = confusion_matrix(y_test, y_test_pred_labels, labels=label_encoder.classes_)\n",
    "display = ConfusionMatrixDisplay(confusion_matrix=cm, display_labels=label_encoder.classes_)\n",
    "display.plot()\n"
   ]
  },
  {
   "cell_type": "code",
   "execution_count": null,
   "id": "7907a856",
   "metadata": {},
   "outputs": [],
   "source": []
  },
  {
   "cell_type": "code",
   "execution_count": 56,
   "id": "13dc7579",
   "metadata": {},
   "outputs": [],
   "source": [
    "from sklearn.model_selection import KFold, GridSearchCV\n",
    "kf = KFold(n_splits=5, shuffle=True, random_state=42)"
   ]
  },
  {
   "cell_type": "code",
   "execution_count": 57,
   "id": "ee3cb380",
   "metadata": {
    "scrolled": true
   },
   "outputs": [
    {
     "name": "stdout",
     "output_type": "stream",
     "text": [
      "Best Parameters: {'max_depth': None, 'max_features': 'log2', 'min_samples_leaf': 1, 'min_samples_split': 2, 'n_estimators': 100}\n",
      "Best Score: 0.9554690715919388\n"
     ]
    }
   ],
   "source": [
    "param_grid = {\n",
    "    'n_estimators': [10, 50, 100],\n",
    "    'max_depth': [None, 10, 20],\n",
    "    'min_samples_split': [2, 5, 10],\n",
    "    'min_samples_leaf': [1, 2, 4],\n",
    "    'max_features': [None, 'sqrt', 'log2']\n",
    "}\n",
    "\n",
    "grid_search = GridSearchCV(estimator=random_forest_model, param_grid=param_grid, cv=kf, scoring='recall_macro',n_jobs=-1)\n",
    "\n",
    "grid_search.fit(X_train, y_train)\n",
    "\n",
    "print(\"Best Parameters:\", grid_search.best_params_)\n",
    "print(\"Best Score:\", grid_search.best_score_)"
   ]
  },
  {
   "cell_type": "code",
   "execution_count": null,
   "id": "39272b4b",
   "metadata": {},
   "outputs": [],
   "source": []
  },
  {
   "cell_type": "code",
   "execution_count": 58,
   "id": "b40990f8",
   "metadata": {},
   "outputs": [
    {
     "name": "stdout",
     "output_type": "stream",
     "text": [
      "Fitting 3 folds for each of 108 candidates, totalling 324 fits\n",
      "Best parameters found: {'colsample_bytree': 1.0, 'learning_rate': 0.1, 'max_depth': 5, 'n_estimators': 100, 'subsample': 0.8}\n"
     ]
    }
   ],
   "source": [
    "label_encoder = LabelEncoder()\n",
    "y_train_encoded = label_encoder.fit_transform(y_train)\n",
    "\n",
    "param_grid = {\n",
    "    'max_depth': [3, 5, 7],\n",
    "    'learning_rate': [0.01, 0.1, 0.2],\n",
    "    'n_estimators': [100, 200, 300],\n",
    "    'subsample': [0.8, 1.0],\n",
    "    'colsample_bytree': [0.8, 1.0]\n",
    "}\n",
    "\n",
    "xgb_model = XGBClassifier(objective='multi:softmax', num_class=3, eval_metric='mlogloss', random_state=42)\n",
    "\n",
    "grid_search = GridSearchCV(estimator=xgb_model, param_grid=param_grid, cv=3, scoring='recall_macro', verbose=1, n_jobs=-1)\n",
    "grid_search.fit(X_train, y_train_encoded)\n",
    "\n",
    "\n",
    "best_params = grid_search.best_params_\n",
    "best_model_XGB = grid_search.best_estimator_\n",
    "\n",
    "print(f\"Best parameters found: {best_params}\")"
   ]
  },
  {
   "cell_type": "code",
   "execution_count": 59,
   "id": "09ad86c6",
   "metadata": {},
   "outputs": [
    {
     "name": "stdout",
     "output_type": "stream",
     "text": [
      "Validation Classification Report:\n",
      "              precision    recall  f1-score   support\n",
      "\n",
      "    negative       0.87      0.96      0.91        47\n",
      "     neutral       0.86      1.00      0.93        51\n",
      "    positive       0.99      0.83      0.90        82\n",
      "\n",
      "    accuracy                           0.91       180\n",
      "   macro avg       0.91      0.93      0.91       180\n",
      "weighted avg       0.92      0.91      0.91       180\n",
      "\n"
     ]
    }
   ],
   "source": [
    "best_model_XGB.fit(X_train, y_train_encoded)\n",
    "\n",
    "y_val_pred = best_model_XGB.predict(X_val)\n",
    "y_val_pred_labels = label_encoder.inverse_transform(y_val_pred)\n",
    "\n",
    "print(\"Validation Classification Report:\")\n",
    "print(classification_report(y_val, y_val_pred_labels))"
   ]
  },
  {
   "cell_type": "code",
   "execution_count": 60,
   "id": "010271c9",
   "metadata": {},
   "outputs": [
    {
     "name": "stdout",
     "output_type": "stream",
     "text": [
      "              precision    recall  f1-score   support\n",
      "\n",
      "    negative       0.46      0.35      0.40        17\n",
      "     neutral       0.42      0.91      0.57        11\n",
      "    positive       0.92      0.84      0.88        97\n",
      "\n",
      "    accuracy                           0.78       125\n",
      "   macro avg       0.60      0.70      0.62       125\n",
      "weighted avg       0.81      0.78      0.78       125\n",
      "\n"
     ]
    }
   ],
   "source": [
    "y_test_encoded = label_encoder.transform(y_test)\n",
    "\n",
    "y_test_pred = best_model_XGB.predict(X_test)\n",
    "y_test_pred_labels = label_encoder.inverse_transform(y_test_pred)\n",
    "\n",
    "print(classification_report(y_test, y_test_pred_labels))"
   ]
  },
  {
   "cell_type": "code",
   "execution_count": null,
   "id": "757480d2",
   "metadata": {},
   "outputs": [],
   "source": []
  },
  {
   "cell_type": "code",
   "execution_count": 63,
   "id": "173f5d27",
   "metadata": {},
   "outputs": [
    {
     "name": "stdout",
     "output_type": "stream",
     "text": [
      "Fitting 3 folds for each of 108 candidates, totalling 324 fits\n",
      "Best parameters found: {'colsample_bytree': 1.0, 'learning_rate': 0.1, 'max_depth': 5, 'n_estimators': 100, 'subsample': 0.8}\n"
     ]
    }
   ],
   "source": [
    "label_encoder = LabelEncoder()\n",
    "y_train_encoded = label_encoder.fit_transform(y_train)\n",
    "\n",
    "param_grid = {\n",
    "    'max_depth': [3, 5, 7],\n",
    "    'learning_rate': [0.01, 0.1, 0.2],\n",
    "    'n_estimators': [100, 200, 300],\n",
    "    'subsample': [0.8, 1.0],\n",
    "    'colsample_bytree': [0.8, 1.0]\n",
    "}\n",
    "\n",
    "xgb_model = XGBClassifier(objective='multi:softmax', num_class=3, eval_metric='mlogloss', random_state=42)\n",
    "\n",
    "grid_search = GridSearchCV(estimator=xgb_model, param_grid=param_grid, cv=3, scoring='recall_macro', verbose=1, n_jobs=-1)\n",
    "grid_search.fit(X_train, y_train_encoded)\n",
    "\n",
    "\n",
    "best_params = grid_search.best_params_\n",
    "best_model_XGB = grid_search.best_estimator_\n",
    "\n",
    "print(f\"Best parameters found: {best_params}\")"
   ]
  },
  {
   "cell_type": "code",
   "execution_count": null,
   "id": "cf01cfac",
   "metadata": {},
   "outputs": [],
   "source": []
  }
 ],
 "metadata": {
  "kernelspec": {
   "display_name": "Python 3 (ipykernel)",
   "language": "python",
   "name": "python3"
  },
  "language_info": {
   "codemirror_mode": {
    "name": "ipython",
    "version": 3
   },
   "file_extension": ".py",
   "mimetype": "text/x-python",
   "name": "python",
   "nbconvert_exporter": "python",
   "pygments_lexer": "ipython3",
   "version": "3.9.12"
  }
 },
 "nbformat": 4,
 "nbformat_minor": 5
}
